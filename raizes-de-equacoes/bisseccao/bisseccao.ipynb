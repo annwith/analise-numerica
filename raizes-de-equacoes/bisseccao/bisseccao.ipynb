{
 "cells": [
  {
   "cell_type": "code",
   "execution_count": 14,
   "id": "ethical-sheffield",
   "metadata": {},
   "outputs": [],
   "source": [
    "import math\n",
    "import numpy as np\n",
    "import pandas as pd"
   ]
  },
  {
   "cell_type": "code",
   "execution_count": 15,
   "id": "promotional-server",
   "metadata": {},
   "outputs": [],
   "source": [
    "# Definir se existe 0 em um intervalo\n",
    "def intervalo_zero(funcao, a, b):\n",
    "    if funcao(a) * funcao(b) < 0:\n",
    "        return True\n",
    "    return False"
   ]
  },
  {
   "cell_type": "code",
   "execution_count": 20,
   "id": "informative-diana",
   "metadata": {},
   "outputs": [],
   "source": [
    "# Definir o número de casas de precisão pra fazer os cálculos\n",
    "def bisseccao(funcao, a, b, precisao_c=None, distancia_absoluta=None, distancia_relativa=None):\n",
    "    # Garantir a < b e a != b\n",
    "    if a > b:\n",
    "        [a, b] = [b, a]\n",
    "    elif a == b:\n",
    "        return \"Interval Error\"\n",
    "\n",
    "    # Inicialização\n",
    "    it = []\n",
    "\n",
    "    f_a = funcao(a)\n",
    "    f_b = funcao(b)\n",
    "    d_absoluta = abs(a-b)\n",
    "    if a != 0:\n",
    "        d_relativa = abs((a-b)/a)\n",
    "    else:\n",
    "        d_relativa = None\n",
    "    \n",
    "    it.append([a, b, f_a, f_b, d_absoluta, d_relativa])\n",
    "    \n",
    "    repeat = False\n",
    "    if (distancia_absoluta != None and d_absoluta > distancia_absoluta):\n",
    "        repeat = True\n",
    "    if (a != 0 and distancia_relativa != None and d_relativa > distancia_relativa):\n",
    "        repeat = True\n",
    "    if (precisao_c != None and abs(f_a) > precisao_c and abs(f_b) > precisao_c):\n",
    "        repeat = True\n",
    "\n",
    "    # Loop\n",
    "    while(repeat and a < b):\n",
    "        # Escolher uma metade\n",
    "        c = (a+b)/2\n",
    "        f_c = funcao(c)\n",
    "\n",
    "        if f_a*f_c < 0:\n",
    "            b = c\n",
    "            f_b = funcao(b)\n",
    "        else:\n",
    "            a = c\n",
    "            f_a = funcao(a)\n",
    "        \n",
    "        d_absoluta = abs(a-b)\n",
    "        if a != 0:\n",
    "            d_relativa = abs((a-b)/a)\n",
    "        else:\n",
    "            d_relativa = None\n",
    "\n",
    "        it.append([a, b, f_a, f_b, d_absoluta, d_relativa])\n",
    "\n",
    "        repeat = False\n",
    "        if (distancia_absoluta != None and d_absoluta > distancia_absoluta):\n",
    "            repeat = True\n",
    "        if (a != 0 and distancia_relativa != None and d_relativa > distancia_relativa):\n",
    "            repeat = True\n",
    "        if (precisao_c != None and abs(f_c) > precisao_c):\n",
    "            repeat = True\n",
    "    \n",
    "    return it\n"
   ]
  },
  {
   "cell_type": "code",
   "execution_count": 21,
   "id": "dutch-edwards",
   "metadata": {},
   "outputs": [],
   "source": [
    "# Definir o número de iterações necessárias\n",
    "def iteracoes_bisseccao(a, b, distancia_absoluta):\n",
    "    i = abs(a-b)\n",
    "    n = (math.log(i)-math.log(distancia_absoluta))/math.log(2)\n",
    "    return n"
   ]
  },
  {
   "cell_type": "code",
   "execution_count": 22,
   "id": "funny-sharing",
   "metadata": {},
   "outputs": [],
   "source": [
    "def funcao(x):\n",
    "    # x³ −7x² +14x − 6\n",
    "    return x**3 - 7*x**2 + 14*x -6"
   ]
  },
  {
   "cell_type": "code",
   "execution_count": 25,
   "id": "written-period",
   "metadata": {},
   "outputs": [
    {
     "data": {
      "text/html": [
       "<div>\n",
       "<style scoped>\n",
       "    .dataframe tbody tr th:only-of-type {\n",
       "        vertical-align: middle;\n",
       "    }\n",
       "\n",
       "    .dataframe tbody tr th {\n",
       "        vertical-align: top;\n",
       "    }\n",
       "\n",
       "    .dataframe thead th {\n",
       "        text-align: right;\n",
       "    }\n",
       "</style>\n",
       "<table border=\"1\" class=\"dataframe\">\n",
       "  <thead>\n",
       "    <tr style=\"text-align: right;\">\n",
       "      <th></th>\n",
       "      <th>a</th>\n",
       "      <th>b</th>\n",
       "      <th>f(a)</th>\n",
       "      <th>f(b)</th>\n",
       "      <th>distância absoluta</th>\n",
       "      <th>distância relativa</th>\n",
       "    </tr>\n",
       "  </thead>\n",
       "  <tbody>\n",
       "    <tr>\n",
       "      <th>0</th>\n",
       "      <td>0</td>\n",
       "      <td>1</td>\n",
       "      <td>-6</td>\n",
       "      <td>2</td>\n",
       "      <td>1</td>\n",
       "      <td>None</td>\n",
       "    </tr>\n",
       "    <tr>\n",
       "      <th>1</th>\n",
       "      <td>0.5000</td>\n",
       "      <td>1</td>\n",
       "      <td>-0.625000</td>\n",
       "      <td>2</td>\n",
       "      <td>0.5000</td>\n",
       "      <td>1.000000</td>\n",
       "    </tr>\n",
       "    <tr>\n",
       "      <th>2</th>\n",
       "      <td>0.5000</td>\n",
       "      <td>0.750</td>\n",
       "      <td>-0.625000</td>\n",
       "      <td>0.984375</td>\n",
       "      <td>0.2500</td>\n",
       "      <td>0.500000</td>\n",
       "    </tr>\n",
       "    <tr>\n",
       "      <th>3</th>\n",
       "      <td>0.5000</td>\n",
       "      <td>0.625</td>\n",
       "      <td>-0.625000</td>\n",
       "      <td>0.259766</td>\n",
       "      <td>0.1250</td>\n",
       "      <td>0.250000</td>\n",
       "    </tr>\n",
       "    <tr>\n",
       "      <th>4</th>\n",
       "      <td>0.5625</td>\n",
       "      <td>0.625</td>\n",
       "      <td>-0.161865</td>\n",
       "      <td>0.259766</td>\n",
       "      <td>0.0625</td>\n",
       "      <td>0.111111</td>\n",
       "    </tr>\n",
       "  </tbody>\n",
       "</table>\n",
       "</div>"
      ],
      "text/plain": [
       "        a      b      f(a)      f(b) distância absoluta distância relativa\n",
       "0       0      1        -6         2                  1               None\n",
       "1  0.5000      1 -0.625000         2             0.5000           1.000000\n",
       "2  0.5000  0.750 -0.625000  0.984375             0.2500           0.500000\n",
       "3  0.5000  0.625 -0.625000  0.259766             0.1250           0.250000\n",
       "4  0.5625  0.625 -0.161865  0.259766             0.0625           0.111111"
      ]
     },
     "execution_count": 25,
     "metadata": {},
     "output_type": "execute_result"
    }
   ],
   "source": [
    "it = bisseccao(funcao, 0, 1, precisao_c=0.01)\n",
    "df = pd.DataFrame(np.array(it),\n",
    "                   columns=['a', 'b', 'f(a)', 'f(b)', 'distância absoluta', 'distância relativa'])\n",
    "df.head()\n"
   ]
  },
  {
   "cell_type": "code",
   "execution_count": 29,
   "id": "incredible-johns",
   "metadata": {},
   "outputs": [],
   "source": [
    "df_a = df[['a', 'f(a)']]\n",
    "df_b = df[['b', 'f(b)']]"
   ]
  },
  {
   "cell_type": "code",
   "execution_count": 28,
   "id": "disabled-latter",
   "metadata": {},
   "outputs": [
    {
     "data": {
      "text/html": [
       "<div>\n",
       "<style scoped>\n",
       "    .dataframe tbody tr th:only-of-type {\n",
       "        vertical-align: middle;\n",
       "    }\n",
       "\n",
       "    .dataframe tbody tr th {\n",
       "        vertical-align: top;\n",
       "    }\n",
       "\n",
       "    .dataframe thead th {\n",
       "        text-align: right;\n",
       "    }\n",
       "</style>\n",
       "<table border=\"1\" class=\"dataframe\">\n",
       "  <thead>\n",
       "    <tr style=\"text-align: right;\">\n",
       "      <th></th>\n",
       "      <th>a</th>\n",
       "      <th>f(a)</th>\n",
       "    </tr>\n",
       "  </thead>\n",
       "  <tbody>\n",
       "    <tr>\n",
       "      <th>0</th>\n",
       "      <td>0</td>\n",
       "      <td>-6</td>\n",
       "    </tr>\n",
       "    <tr>\n",
       "      <th>1</th>\n",
       "      <td>0.5000</td>\n",
       "      <td>-0.625000</td>\n",
       "    </tr>\n",
       "    <tr>\n",
       "      <th>2</th>\n",
       "      <td>0.5000</td>\n",
       "      <td>-0.625000</td>\n",
       "    </tr>\n",
       "    <tr>\n",
       "      <th>3</th>\n",
       "      <td>0.5000</td>\n",
       "      <td>-0.625000</td>\n",
       "    </tr>\n",
       "    <tr>\n",
       "      <th>4</th>\n",
       "      <td>0.5625</td>\n",
       "      <td>-0.161865</td>\n",
       "    </tr>\n",
       "  </tbody>\n",
       "</table>\n",
       "</div>"
      ],
      "text/plain": [
       "        a      f(a)\n",
       "0       0        -6\n",
       "1  0.5000 -0.625000\n",
       "2  0.5000 -0.625000\n",
       "3  0.5000 -0.625000\n",
       "4  0.5625 -0.161865"
      ]
     },
     "execution_count": 28,
     "metadata": {},
     "output_type": "execute_result"
    }
   ],
   "source": [
    "df_a.head()"
   ]
  },
  {
   "cell_type": "code",
   "execution_count": 48,
   "id": "disciplinary-backup",
   "metadata": {},
   "outputs": [
    {
     "data": {
      "image/png": "[encoded data removed]",
      "text/plain": [
       "<Figure size 432x288 with 1 Axes>"
      ]
     },
     "metadata": {
      "needs_background": "light"
     },
     "output_type": "display_data"
    }
   ],
   "source": [
    "import matplotlib.pyplot as plt\n",
    "import matplotlib.animation as animation\n",
    "\n",
    "# Data for plotting\n",
    "t = np.arange(0, 1, 0.01)\n",
    "s = funcao(t)\n",
    "\n",
    "fig, ax = plt.subplots()\n",
    "line, = ax.plot(t, s)\n",
    "        \n",
    "x_a = np.asarray(df_a[['a']])\n",
    "y_a = np.asarray(df_a[['f(a)']])\n",
    "x_b = np.asarray(df_b[['b']])\n",
    "y_b = np.asarray(df_b[['f(b)']])\n",
    "\n",
    "x = np.concatenate((x_a, x_b), axis=0)\n",
    "y = np.concatenate((y_a, y_b), axis=0)\n",
    "\n",
    "plt.stem(x, y)\n",
    "plt.show()"
   ]
  },
  {
   "cell_type": "code",
   "execution_count": null,
   "id": "exotic-eight",
   "metadata": {},
   "outputs": [],
   "source": []
  }
 ],
 "metadata": {
  "kernelspec": {
   "display_name": "Python (tf)",
   "language": "python",
   "name": "tf"
  },
  "language_info": {
   "codemirror_mode": {
    "name": "ipython",
    "version": 3
   },
   "file_extension": ".py",
   "mimetype": "text/x-python",
   "name": "python",
   "nbconvert_exporter": "python",
   "pygments_lexer": "ipython3",
   "version": "3.8.5"
  }
 },
 "nbformat": 4,
 "nbformat_minor": 5
}
